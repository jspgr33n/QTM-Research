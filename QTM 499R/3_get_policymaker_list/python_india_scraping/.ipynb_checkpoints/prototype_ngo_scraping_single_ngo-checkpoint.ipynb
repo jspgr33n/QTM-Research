{
 "cells": [
  {
   "cell_type": "markdown",
   "id": "aggressive-shaft",
   "metadata": {},
   "source": [
    "prototype_ngo_scraping_single_ngo"
   ]
  },
  {
   "cell_type": "markdown",
   "id": "electrical-cheat",
   "metadata": {},
   "source": [
    "# Prototype NGO Scraping: Scraping Information for a Single Firm\n",
    "The objective of this notebook is to play around with the NGO website scraping to in order to find a good way to scrape the list of NGO's. "
   ]
  },
  {
   "cell_type": "markdown",
   "id": "urban-reset",
   "metadata": {},
   "source": [
    "## imports"
   ]
  },
  {
   "cell_type": "code",
   "execution_count": 1,
   "id": "prostate-boundary",
   "metadata": {},
   "outputs": [],
   "source": [
    "import warnings\n",
    "warnings.filterwarnings(\"ignore\", category=DeprecationWarning)  # to mute DeprecationWarnings\n",
    "\n",
    "#-------FOR WORKING WITH DATA IN A DATAFRAME--------\n",
    "\n",
    "import pandas as pd #To store scraped data\n",
    "\n",
    "#-------SCRAPING SPECIFIC MODULES--------\n",
    "from selenium import webdriver #to automate the navigating within the browser\n",
    "from webdriver_manager.chrome import ChromeDriverManager #in order to interact with the browser selenium needs the underlying driver, while that driver can be installed non-programtically, that involved the addtional step of placing that driver in the PYTHON PATH for it to be accessible to python. Using webdriver-manager takes care of those two steps. \n",
    "from selenium.webdriver.common.keys import Keys # to \"click\" on clickable web elements\n",
    "from selenium.webdriver.support.ui import Select #to select the features we want on the website via the scraper\n",
    "from selenium.webdriver.support.ui import WebDriverWait #again, to add wait times more 'implicitly'\n",
    "from selenium.webdriver.common.by import By # this is to set up contingent actions, such as search-by-id or search-by-xpath\n",
    "from selenium.webdriver.support import expected_conditions as EC # this allows us to specify that we're expecting certain elements to be present on the webpage, such as a close-button, and to specify conditions concerning those\n",
    "from selenium.webdriver.chrome.options import Options #to use properties of the chrome webbrowser\n",
    "\n",
    "#----------MISCELLANEOUS----------------------------\n",
    "import random # this is a random-item generator\n",
    "import time # to add hard-coded sleep times, as well as to time the script"
   ]
  },
  {
   "cell_type": "markdown",
   "id": "secondary-instruction",
   "metadata": {},
   "source": [
    "## noting start time, to use for timing the code"
   ]
  },
  {
   "cell_type": "code",
   "execution_count": 2,
   "id": "romantic-premium",
   "metadata": {},
   "outputs": [],
   "source": [
    "start_time = time.time() # noting the time at which this command is executed, and storing it as the \"start time\", in order to time the code."
   ]
  },
  {
   "cell_type": "markdown",
   "id": "documented-aaron",
   "metadata": {},
   "source": [
    "## scraping"
   ]
  },
  {
   "cell_type": "markdown",
   "id": "weekly-yahoo",
   "metadata": {},
   "source": [
    "### set-up"
   ]
  },
  {
   "cell_type": "markdown",
   "id": "popular-desperate",
   "metadata": {},
   "source": [
    "#### setting up selenium to use chrome as the browser"
   ]
  },
  {
   "cell_type": "code",
   "execution_count": 3,
   "id": "addressed-terry",
   "metadata": {},
   "outputs": [
    {
     "name": "stderr",
     "output_type": "stream",
     "text": [
      "\n",
      "\n",
      "====== WebDriver manager ======\n",
      "Current google-chrome version is 99.0.4844\n",
      "Get LATEST chromedriver version for 99.0.4844 google-chrome\n",
      "Driver [/Users/garima/.wdm/drivers/chromedriver/mac64/99.0.4844.51/chromedriver] found in cache\n"
     ]
    }
   ],
   "source": [
    "options = Options() # to modify the behaviour of the browser we're going to use, and store those modifications\n",
    "options.headless = False # True hides the navigating of the browser by the scraper, False shows you the tab/window opening and stuff getting clicked\n",
    "driver = webdriver.Chrome(ChromeDriverManager().install(), options=options)"
   ]
  },
  {
   "cell_type": "markdown",
   "id": "collaborative-pharmacy",
   "metadata": {},
   "source": [
    "#### specifying the url to be scraped"
   ]
  },
  {
   "cell_type": "code",
   "execution_count": 4,
   "id": "round-leonard",
   "metadata": {},
   "outputs": [],
   "source": [
    "base_url = 'https://ngodarpan.gov.in/index.php/home/sectorwise' # this is the url to the homepage with the list of 43 sectors"
   ]
  },
  {
   "cell_type": "code",
   "execution_count": 5,
   "id": "dimensional-adrian",
   "metadata": {},
   "outputs": [],
   "source": [
    "driver.get(base_url) # driver is the browser, get essentially opens the url specified in the paranthesis"
   ]
  },
  {
   "cell_type": "markdown",
   "id": "corresponding-syria",
   "metadata": {},
   "source": [
    "### obtaining links to the pages containing NGOs for each sector\n",
    "The organization of the website is as follows: \n",
    "- the homepage consists of a list of 43 sectors, each element in the list is a hyperlink to the \"sector page\" \n",
    "- on clicking on a sector on the homepage, we arrive at the sector page, which consists of a summary table of NGOs under that sector\n",
    "- the summary table is several pages long, and the default setting is to display 10 table entries per page\n",
    "- each entry in the summary table is a hyperlink to a pop-up box containing detailed information about the NGO in the table entry"
   ]
  },
  {
   "cell_type": "markdown",
   "id": "ba73e555",
   "metadata": {},
   "source": [
    "#### collect all the URLs to each of the 43 sectors and store them in a list\n",
    "These URLs are independent of each other, that is one doesn't need to work through a sequence. "
   ]
  },
  {
   "cell_type": "code",
   "execution_count": 6,
   "id": "uniform-lancaster",
   "metadata": {},
   "outputs": [],
   "source": [
    "sector_urls = []; # initiating a  list to store the sector-wise URLs. As of 28/Feb/2022, the page has 43 sectors, so we should end up with a list of length 43 after the completion of this step. "
   ]
  },
  {
   "cell_type": "code",
   "execution_count": 7,
   "id": "labeled-ribbon",
   "metadata": {},
   "outputs": [],
   "source": [
    "sector_elems = driver.find_elements_by_class_name('bluelink11px') # each of the sector hyperlinks is stored under the class name 'bluelink11px' in the HTML code for the webpage"
   ]
  },
  {
   "cell_type": "code",
   "execution_count": 8,
   "id": "stone-albert",
   "metadata": {},
   "outputs": [],
   "source": [
    "for elem in sector_elems: \n",
    "    sector_url = elem.get_attribute('href')\n",
    "    sector_urls.append(sector_url)"
   ]
  },
  {
   "cell_type": "markdown",
   "id": "distinct-constraint",
   "metadata": {},
   "source": [
    "#### select a random sector from which to pick a NGO to scrape\n",
    "\n",
    "- picking the 10th sector to scrape\n",
    "- also, changing the default number of entries displayed per page to 100"
   ]
  },
  {
   "cell_type": "code",
   "execution_count": 9,
   "id": "arctic-delivery",
   "metadata": {},
   "outputs": [],
   "source": [
    "test_url = sector_urls[9] # 9 here refers to the 10th sector, since python has zero-indexing\n",
    "test_url = test_url + '?per_page=100' # the default number of entries displayed per page is 10, adding \"?per_page=100\" to the url changes it to 100 per page. "
   ]
  },
  {
   "cell_type": "code",
   "execution_count": 10,
   "id": "incorporated-immigration",
   "metadata": {},
   "outputs": [],
   "source": [
    "driver.get(test_url) # this opens up the browser to the \"sector page\" for the 10th sector"
   ]
  },
  {
   "cell_type": "markdown",
   "id": "bridal-voluntary",
   "metadata": {},
   "source": [
    "#### getting total number of pages with NGOs for the selected sector\n",
    "- the number of table entries under each sector is variable, consequently the total number of pages is variable too. Extracting and storing the total number of pages for the sector to be scraped. \n",
    "- the page numbers are available in the URL itself, so it's most convenient to extract them from there. An example URL is \"https://ngodarpan.gov.in/index.php/home/sectorwise_ngo/18167/7/22?per_page=100\". Here, \"https://ngodarpan.gov.in/index.php/home/sectorwise_ngo/\" is the base URL. The \"18167/7\" is a code that changes with each sector. The \"22\" refers to the current page number within the sector. So, in order to extract the page number, we breakup the URL at \"?\", getting two parts: part 1: \"https://ngodarpan.gov.in/index.php/home/sectorwise_ngo/18167/7/22\" and part 2: \"per_page=100\". We further split part 1 from the right at \"/\", getting part1.1 as \"https://ngodarpan.gov.in/index.php/home/sectorwise_ngo/18167/7\" and part 1.2 as \"22\". Part 1.2 is our desired object. "
   ]
  },
  {
   "cell_type": "code",
   "execution_count": 11,
   "id": "industrial-infrastructure",
   "metadata": {},
   "outputs": [],
   "source": [
    "page_num = driver.find_elements_by_partial_link_text('Last') # the last page for a given sector is denoted by 'Last' so looking for the last-page element using that text\n",
    "page_num[0].click() # clicking on the button for the last page\n",
    "last_url = driver.current_url # we've now been taken to the last page for the sector, the page number is present in the URL so storing the URL to extract the page number from it\n",
    "last_page_num = int(last_url.split('?')[0].rsplit('/',1)[1]) # extracting page number from the URL as described in the markdown cell above"
   ]
  },
  {
   "cell_type": "markdown",
   "id": "chemical-liberal",
   "metadata": {},
   "source": [
    "#### selecting NGO data to scrape from a randomly selected page"
   ]
  },
  {
   "cell_type": "code",
   "execution_count": 12,
   "id": "vulnerable-montgomery",
   "metadata": {},
   "outputs": [],
   "source": [
    "page_to_scrape = random.choice(range(1, last_page_num))\n",
    "scrape_url = test_url.rsplit('?', 1)[0][:-1]+f'{page_to_scrape}'+'?per_page=100' # re-inserting a new page number in the URL to scrape NGOs on that page"
   ]
  },
  {
   "cell_type": "code",
   "execution_count": 13,
   "id": "latest-rugby",
   "metadata": {},
   "outputs": [],
   "source": [
    "driver.get(scrape_url) # opening up the page to scrape with the browser"
   ]
  },
  {
   "cell_type": "markdown",
   "id": "surrounded-newport",
   "metadata": {},
   "source": [
    "#### getting links of all NGOs on the selected page"
   ]
  },
  {
   "cell_type": "code",
   "execution_count": 14,
   "id": "uniform-affair",
   "metadata": {},
   "outputs": [
    {
     "data": {
      "text/plain": [
       "100"
      ]
     },
     "execution_count": 14,
     "metadata": {},
     "output_type": "execute_result"
    }
   ],
   "source": [
    "ngo_list_on_page= driver.find_elements_by_xpath(\"//a[contains(@onclick,'show_ngo_info')]\") # finding all elements on the page that contain \"show_ngo_info\", this returns the list of NGO \"elements\" on the given page\n",
    "len(ngo_list_on_page) #since we change the setting to 100 per page, we expect this to be 100, unless it's the last page for the sector"
   ]
  },
  {
   "cell_type": "markdown",
   "id": "bright-seventh",
   "metadata": {},
   "source": [
    "#### scraping data for a single NGO"
   ]
  },
  {
   "cell_type": "markdown",
   "id": "magnetic-chuck",
   "metadata": {},
   "source": [
    "##### clicking the link for the NGO to get the information popup"
   ]
  },
  {
   "cell_type": "code",
   "execution_count": 15,
   "id": "chronic-preserve",
   "metadata": {},
   "outputs": [],
   "source": [
    "ngo_list_on_page[0].click()  # going to the first NGO element on the page, this will open the pop-up info-box for the NGO"
   ]
  },
  {
   "cell_type": "markdown",
   "id": "appreciated-unemployment",
   "metadata": {},
   "source": [
    "##### getting information from the pop-up for all attributes that are not variable\n",
    "Name, Unique ID, Registration, FCRA and Contact Details tables for each NGO are fixed, that is they contain the same number of and same elements for each NGO. \n",
    "Whereas the Members and Source of Funds tables have diffrent number of entries across the NGOs"
   ]
  },
  {
   "cell_type": "code",
   "execution_count": 16,
   "id": "contemporary-struggle",
   "metadata": {},
   "outputs": [],
   "source": [
    "name = driver.find_element_by_id('ngo_name_title').get_attribute('innerHTML')\n",
    "uid = driver.find_element_by_id('UniqueID').get_attribute('innerHTML')\n",
    "reg_with = driver.find_element_by_id('reg_with').get_attribute('innerHTML')\n",
    "ngo_type = driver.find_element_by_id('ngo_type').get_attribute('innerHTML')\n",
    "ngo_regno = driver.find_element_by_id('ngo_regno').get_attribute('innerHTML')\n",
    "rc_upload = driver.find_element_by_id('rc_upload').get_attribute('innerHTML')\n",
    "pc_upload = driver.find_element_by_id('pc_upload').get_attribute('innerHTML')\n",
    "act_name = driver.find_element_by_id('ngo_act_name').get_attribute('innerHTML')\n",
    "city_reg = driver.find_element_by_id('ngo_city_p').get_attribute('innerHTML')\n",
    "state_reg = driver.find_element_by_id('ngo_state_p').get_attribute('innerHTML')\n",
    "reg_date = driver.find_element_by_id('ngo_reg_date').get_attribute('innerHTML')\n",
    "key_issues = driver.find_element_by_id('key_issues').get_attribute('innerHTML')\n",
    "operational_states = driver.find_element_by_id('operational_states').get_attribute('innerHTML')\n",
    "operational_districts = driver.find_element_by_id('operational_district').get_attribute('innerHTML')\n",
    "fcra_details = driver.find_element_by_id('FCRA_details').get_attribute('innerHTML')\n",
    "fcra_regno = driver.find_element_by_id('FCRA_reg_no').get_attribute('innerHTML')\n",
    "details_achievement = driver.find_element_by_id('activities_achieve').get_attribute('innerHTML')\n",
    "contact_address = driver.find_element_by_id('address').get_attribute('innerHTML')\n",
    "contact_city = driver.find_element_by_id('city').get_attribute('innerHTML')\n",
    "contact_state = driver.find_element_by_id('state_p_ngo').get_attribute('innerHTML')\n",
    "contact_telephone = driver.find_element_by_id('phone_n').get_attribute('innerHTML')\n",
    "contact_mobile = driver.find_element_by_id('mobile_n').get_attribute('innerHTML')\n",
    "contact_website = driver.find_element_by_id('ngo_web_url').get_attribute('innerText')\n",
    "contact_email = driver.find_element_by_id('email_n').get_attribute('innerHTML')"
   ]
  },
  {
   "cell_type": "markdown",
   "id": "reasonable-holder",
   "metadata": {},
   "source": [
    "##### extracting details from the Members table\n",
    "The number of members for each NGO is different thus the tables are of variable length. The table data is present in the form of a vector, when extracted through the HTML. The table contains 'n' rows and 4 columns (name, designation, PAN availability, and aadhar availability). So the extracted data is a list of length 4n: \n",
    "- starting from the first element, every 5th element in the list is the name of a member, \n",
    "- starting from the 2nd element, every 5th element is the designation of the member, \n",
    "- starting from the 3rd element every 5th element is the PAN availability of the member,\n",
    "- starting from the 4th element every 5th element is the Aadhar availability of the member. \n",
    "So, I exploit this structure to extract information from this table. "
   ]
  },
  {
   "cell_type": "code",
   "execution_count": 17,
   "id": "minus-innocent",
   "metadata": {},
   "outputs": [],
   "source": [
    "members_table = driver.find_element_by_id('member_table')\n",
    "member_names =  [i.get_attribute('innerHTML') for i in members_table.find_elements_by_xpath('.//tr//td')[::4]]\n",
    "member_designations = [i.get_attribute('innerHTML') for i in members_table.find_elements_by_xpath('.//tr//td')[1::4]]\n",
    "member_pan = [i.get_attribute('innerHTML') for i in members_table.find_elements_by_xpath('.//tr//td')[2::4]]\n",
    "member_aadhar = [i.get_attribute('innerHTML') for i in members_table.find_elements_by_xpath('.//tr//td')[3::4]]\n",
    "member_name_designation_dict = dict(zip(member_names, member_designations)) # storing member names and their designations as dictionaries\n",
    "member_name_pan_dict = dict(zip(member_names, member_pan)) # storing member names and their PAN availabilities as dictionaries\n",
    "member_name_aadhar_dict = dict(zip(member_names, member_aadhar)) # storing member names and tneir Aadhar availabilities as dictionaries"
   ]
  },
  {
   "cell_type": "markdown",
   "id": "ordinary-disability",
   "metadata": {},
   "source": [
    "##### extracting details from the Source of Funds table\n",
    "The number of sources for each NGO is different thus the tables are of variable length. The table data is present in the form of a vector, when extracted through the HTML. The table contains 'n' rows and 5 columns (department name, source, financial year, amount sanctioned and purpose). So the extracted data is a list of length 4n: \n",
    "- starting from the first element, every 6th element in the list is the department name of the source, \n",
    "- starting from the first element, every 6th element in the list is the source, \n",
    "- starting from the first element, every 6th element in the list is the financial year of the source, \n",
    "- starting from the first element, every 6th element in the list is the amount sanctioned by the source, \n",
    "- starting from the first element, every 6th element in the list is the purpose of the funds. \n",
    "\n",
    "So, I exploit this structure to extract information from this table. "
   ]
  },
  {
   "cell_type": "code",
   "execution_count": 18,
   "id": "decent-bahamas",
   "metadata": {},
   "outputs": [],
   "source": [
    "sof_table = driver.find_element_by_id('source_table') # extracting the table essentially as a vector\n",
    "dept_name = [i.get_attribute('innerHTML') for i in sof_table.find_elements_by_xpath('.//tr//td')[::5]] \n",
    "source = [i.get_attribute('innerHTML') for i in sof_table.find_elements_by_xpath('.//tr//td')[1::5]]\n",
    "financial_year = [i.get_attribute('innerHTML') for i in sof_table.find_elements_by_xpath('.//tr//td')[2::5]]\n",
    "amount_sanctioned =[i.get_attribute('innerHTML') for i in sof_table.find_elements_by_xpath('.//tr//td')[3::5]]\n",
    "purpose = [i.get_attribute('innerHTML') for i in sof_table.find_elements_by_xpath('.//tr//td')[4::5]]\n",
    "year_amount_dict = dict(zip(financial_year, amount_sanctioned))\n",
    "year_dept_dict = dict(zip(financial_year, dept_name))\n",
    "year_source_dict = dict(zip(financial_year, source))\n",
    "year_purpose_dict = dict(zip(financial_year, purpose))"
   ]
  },
  {
   "cell_type": "markdown",
   "id": "frank-america",
   "metadata": {},
   "source": [
    "#### storing data into a dataframe\n",
    "\n",
    "We have all the data assigned to variables, now we want to generate a dataframe and store each variable into a different column of the dataframe"
   ]
  },
  {
   "cell_type": "code",
   "execution_count": 19,
   "id": "supreme-providence",
   "metadata": {},
   "outputs": [],
   "source": [
    "df = pd.DataFrame() # creating an empty dataframe to write the data into"
   ]
  },
  {
   "cell_type": "code",
   "execution_count": 20,
   "id": "maritime-knowing",
   "metadata": {},
   "outputs": [],
   "source": [
    "df['ngo_name'] = [name]\n",
    "df['unique_id'] = uid\n",
    "df['registered_with'] = reg_with\n",
    "df['type_of_ngo'] = ngo_type\n",
    "df['registration_number'] = ngo_regno\n",
    "df['copy_of_registration_certificate'] = rc_upload\n",
    "df['copy_of_pan_card'] = pc_upload\n",
    "df['act_name'] = act_name\n",
    "df['city_of_registration'] = city_reg\n",
    "df['state_of_registration'] = state_reg\n",
    "df['registration_date'] = reg_date\n",
    "df['key_issues'] = key_issues\n",
    "df['operational_areas_states'] = operational_states\n",
    "df['operational_areas_districts'] = operational_districts\n",
    "df['FCRA_details'] = fcra_details\n",
    "df['FCRA_registration_num'] = fcra_regno\n",
    "df['details_of_achievement'] = details_achievement\n",
    "df['contact_details_address'] = contact_address\n",
    "df['contact_details_city'] = contact_city\n",
    "df['contact_details_state'] = contact_state\n",
    "df['contact_details_telephone'] = contact_telephone\n",
    "df['contact_details_website'] = contact_website\n",
    "df['contact_details_email'] = contact_email\n",
    "df['members_names_designations'] = [member_name_designation_dict]\n",
    "df['members_names_pan_availability'] = [member_name_pan_dict]\n",
    "df['members_names_aadhar_availability'] = [member_name_aadhar_dict]\n",
    "df['source_of_funds_amount_sanctioned'] = [year_amount_dict]\n",
    "df['source_of_funds_department_name'] = [year_dept_dict]\n",
    "df['source_of_funds_source'] = [year_source_dict]\n",
    "df['source_of_funds_purpose'] = [year_purpose_dict]"
   ]
  },
  {
   "cell_type": "markdown",
   "id": "clear-certification",
   "metadata": {},
   "source": [
    "## noting end time to see how long it took to scrape a single NGO's data"
   ]
  },
  {
   "cell_type": "code",
   "execution_count": 21,
   "id": "elect-distribution",
   "metadata": {},
   "outputs": [
    {
     "name": "stdout",
     "output_type": "stream",
     "text": [
      "--- The script took  14.198443174362183 seconds ---\n"
     ]
    }
   ],
   "source": [
    "print(\"--- The script took  %s seconds ---\" % (time.time() - start_time))"
   ]
  },
  {
   "cell_type": "markdown",
   "id": "known-auction",
   "metadata": {},
   "source": [
    "## displaying output"
   ]
  },
  {
   "cell_type": "code",
   "execution_count": 22,
   "id": "fixed-print",
   "metadata": {},
   "outputs": [
    {
     "data": {
      "text/html": [
       "<div>\n",
       "<style scoped>\n",
       "    .dataframe tbody tr th:only-of-type {\n",
       "        vertical-align: middle;\n",
       "    }\n",
       "\n",
       "    .dataframe tbody tr th {\n",
       "        vertical-align: top;\n",
       "    }\n",
       "\n",
       "    .dataframe thead th {\n",
       "        text-align: right;\n",
       "    }\n",
       "</style>\n",
       "<table border=\"1\" class=\"dataframe\">\n",
       "  <thead>\n",
       "    <tr style=\"text-align: right;\">\n",
       "      <th></th>\n",
       "      <th>ngo_name</th>\n",
       "      <th>unique_id</th>\n",
       "      <th>registered_with</th>\n",
       "      <th>type_of_ngo</th>\n",
       "      <th>registration_number</th>\n",
       "      <th>copy_of_registration_certificate</th>\n",
       "      <th>copy_of_pan_card</th>\n",
       "      <th>act_name</th>\n",
       "      <th>city_of_registration</th>\n",
       "      <th>state_of_registration</th>\n",
       "      <th>...</th>\n",
       "      <th>contact_details_telephone</th>\n",
       "      <th>contact_details_website</th>\n",
       "      <th>contact_details_email</th>\n",
       "      <th>members_names_designations</th>\n",
       "      <th>members_names_pan_availability</th>\n",
       "      <th>members_names_aadhar_availability</th>\n",
       "      <th>source_of_funds_amount_sanctioned</th>\n",
       "      <th>source_of_funds_department_name</th>\n",
       "      <th>source_of_funds_source</th>\n",
       "      <th>source_of_funds_purpose</th>\n",
       "    </tr>\n",
       "  </thead>\n",
       "  <tbody>\n",
       "    <tr>\n",
       "      <th>0</th>\n",
       "      <td></td>\n",
       "      <td>AP/2016/0112003</td>\n",
       "      <td>Registrar of Societies</td>\n",
       "      <td>Registered Societies (Non-Government)</td>\n",
       "      <td>281-2005</td>\n",
       "      <td>Available</td>\n",
       "      <td>Available</td>\n",
       "      <td>XXI OF 1860</td>\n",
       "      <td>CHITTOOR</td>\n",
       "      <td>ANDHRA PRADESH</td>\n",
       "      <td>...</td>\n",
       "      <td>08572-221457</td>\n",
       "      <td>http://pewsindia.in</td>\n",
       "      <td>pewsindia4u(at)gmail[dot]com</td>\n",
       "      <td>{' K PATTABHI REDDY': 'Member', ' A Santosh Ku...</td>\n",
       "      <td>{' K PATTABHI REDDY': 'Available', ' A Santosh...</td>\n",
       "      <td>{' K PATTABHI REDDY': 'Available', ' A Santosh...</td>\n",
       "      <td>{'2014-2015': 'Not Specified', '2015-2016': 'N...</td>\n",
       "      <td>{'2014-2015': 'Not Specified', '2015-2016': 'N...</td>\n",
       "      <td>{'2014-2015': 'Any Other', '2015-2016': 'Any O...</td>\n",
       "      <td>{'2014-2015': 'Income generated through retail...</td>\n",
       "    </tr>\n",
       "  </tbody>\n",
       "</table>\n",
       "<p>1 rows × 30 columns</p>\n",
       "</div>"
      ],
      "text/plain": [
       "  ngo_name        unique_id         registered_with  \\\n",
       "0           AP/2016/0112003  Registrar of Societies   \n",
       "\n",
       "                             type_of_ngo registration_number  \\\n",
       "0  Registered Societies (Non-Government)            281-2005   \n",
       "\n",
       "  copy_of_registration_certificate copy_of_pan_card     act_name  \\\n",
       "0                        Available        Available  XXI OF 1860   \n",
       "\n",
       "  city_of_registration state_of_registration  ... contact_details_telephone  \\\n",
       "0             CHITTOOR        ANDHRA PRADESH  ...              08572-221457   \n",
       "\n",
       "  contact_details_website         contact_details_email  \\\n",
       "0     http://pewsindia.in  pewsindia4u(at)gmail[dot]com   \n",
       "\n",
       "                          members_names_designations  \\\n",
       "0  {' K PATTABHI REDDY': 'Member', ' A Santosh Ku...   \n",
       "\n",
       "                      members_names_pan_availability  \\\n",
       "0  {' K PATTABHI REDDY': 'Available', ' A Santosh...   \n",
       "\n",
       "                   members_names_aadhar_availability  \\\n",
       "0  {' K PATTABHI REDDY': 'Available', ' A Santosh...   \n",
       "\n",
       "                   source_of_funds_amount_sanctioned  \\\n",
       "0  {'2014-2015': 'Not Specified', '2015-2016': 'N...   \n",
       "\n",
       "                     source_of_funds_department_name  \\\n",
       "0  {'2014-2015': 'Not Specified', '2015-2016': 'N...   \n",
       "\n",
       "                              source_of_funds_source  \\\n",
       "0  {'2014-2015': 'Any Other', '2015-2016': 'Any O...   \n",
       "\n",
       "                             source_of_funds_purpose  \n",
       "0  {'2014-2015': 'Income generated through retail...  \n",
       "\n",
       "[1 rows x 30 columns]"
      ]
     },
     "execution_count": 22,
     "metadata": {},
     "output_type": "execute_result"
    }
   ],
   "source": [
    "df"
   ]
  }
 ],
 "metadata": {
  "kernelspec": {
   "display_name": "Python 3 (ipykernel)",
   "language": "python",
   "name": "python3"
  },
  "language_info": {
   "codemirror_mode": {
    "name": "ipython",
    "version": 3
   },
   "file_extension": ".py",
   "mimetype": "text/x-python",
   "name": "python",
   "nbconvert_exporter": "python",
   "pygments_lexer": "ipython3",
   "version": "3.10.0"
  },
  "toc": {
   "base_numbering": 1,
   "nav_menu": {},
   "number_sections": false,
   "sideBar": true,
   "skip_h1_title": false,
   "title_cell": "Table of Contents",
   "title_sidebar": "Contents",
   "toc_cell": false,
   "toc_position": {},
   "toc_section_display": true,
   "toc_window_display": false
  },
  "varInspector": {
   "cols": {
    "lenName": 16,
    "lenType": 16,
    "lenVar": 40
   },
   "kernels_config": {
    "python": {
     "delete_cmd_postfix": "",
     "delete_cmd_prefix": "del ",
     "library": "var_list.py",
     "varRefreshCmd": "print(var_dic_list())"
    },
    "r": {
     "delete_cmd_postfix": ") ",
     "delete_cmd_prefix": "rm(",
     "library": "var_list.r",
     "varRefreshCmd": "cat(var_dic_list()) "
    }
   },
   "types_to_exclude": [
    "module",
    "function",
    "builtin_function_or_method",
    "instance",
    "_Feature"
   ],
   "window_display": false
  }
 },
 "nbformat": 4,
 "nbformat_minor": 5
}
