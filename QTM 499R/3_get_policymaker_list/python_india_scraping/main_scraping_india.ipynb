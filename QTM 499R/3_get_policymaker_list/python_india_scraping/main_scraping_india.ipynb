{
 "cells": [
  {
   "cell_type": "markdown",
   "source": [
    "# Prototype NGO Scraping: Scraping Information for Multiple NGOs\n",
    "\n",
    "\n",
    "## The objective of this notebook is to play around with the NGO website scraping <br>\n",
    "## to in order to find a good way to scrape the list of NGO's. "
   ],
   "metadata": {}
  },
  {
   "cell_type": "markdown",
   "source": [
    "# I. SETUP WORKING ENVIRONMENT"
   ],
   "metadata": {}
  },
  {
   "cell_type": "markdown",
   "source": [
    "## Import packages"
   ],
   "metadata": {}
  },
  {
   "cell_type": "code",
   "execution_count": 2,
   "source": [
    "# Import custom scripts\n",
    "exec(open(\"./scripts/scraping_fns.py\").read())\n",
    "\n",
    "# This command executes the python scripts\n",
    "exec(open(\"./scripts/import_packages.py\").read())"
   ],
   "outputs": [],
   "metadata": {}
  },
  {
   "cell_type": "markdown",
   "source": [
    "## Configure storage\n",
    "\n",
    "- CHANGE CODE TO BE IN TERMS OF RELATIVE LOCATION"
   ],
   "metadata": {}
  },
  {
   "cell_type": "code",
   "execution_count": 3,
   "source": [
    "user = getpass.getuser()\n",
    "\n",
    "if user == \"jspgr33n\":\n",
    "    root_directory = \"/Users/jspgr33n/Library/CloudStorage/OneDrive-EmoryUniversity/QTM-Research/QTM 499R/\"\n",
    "elif os.getenv(\"USERNAME\") == \"jspgr33n\":\n",
    "    root_directory = \"\"\n",
    "elif user == \"asanc31\":\n",
    "    root_directory = \"/Users/asanc31/Library/CloudStorage/OneDrive-EmoryUniversity/QTM 499R/\"\n",
    "\n",
    "store_directory = os.path.join(root_directory, \"3_get_policymaker_list/python_india_scraping/results\")\n",
    "\n",
    "# Checking to see root_directory and store_directory, where data will be stored.\n",
    "print(root_directory)\n",
    "print(store_directory)\n"
   ],
   "outputs": [
    {
     "output_type": "stream",
     "name": "stdout",
     "text": [
      "/Users/jspgr33n/Library/CloudStorage/OneDrive-EmoryUniversity/QTM-Research/QTM 499R/\n",
      "/Users/jspgr33n/Library/CloudStorage/OneDrive-EmoryUniversity/QTM-Research/QTM 499R/3_get_policymaker_list/python_india_scraping/results\n"
     ]
    }
   ],
   "metadata": {}
  },
  {
   "cell_type": "markdown",
   "source": [
    "## Configure driver"
   ],
   "metadata": {}
  },
  {
   "cell_type": "code",
   "execution_count": 4,
   "source": [
    "# specifying the url to be scraped\n",
    "base_url = 'https://ngodarpan.gov.in/index.php/home/sectorwise'\n",
    "# base_url = 'https://ngodarpan.gov.in/index.php/home/statewise'\n",
    "\n",
    "# setting up selenium to use chrome as the browser\n",
    "options = Options()\n",
    "options.headless = True # True hides the navigating of the browser by the scraper, False shows you the tab/window opening and stuff getting clicked\n",
    "driver = webdriver.Chrome(options=options)"
   ],
   "outputs": [],
   "metadata": {}
  },
  {
   "cell_type": "markdown",
   "source": [
    "# II. TEST FUNCTIONS"
   ],
   "metadata": {}
  },
  {
   "cell_type": "code",
   "execution_count": 7,
   "source": [
    "print(f\"Obtaining URLs\")\n",
    "sector_urls = get_sector_urls(base_url)\n",
    "#total_pages_list = [get_num_of_pages_for_sector(sector_num) for sector_num in range(0,len(sector_urls))]\n",
    "drivers_dict={}"
   ],
   "outputs": [
    {
     "output_type": "stream",
     "name": "stdout",
     "text": [
      "Obtaining URLs\n"
     ]
    }
   ],
   "metadata": {}
  },
  {
   "cell_type": "code",
   "execution_count": 8,
   "source": [
    "sector_urls"
   ],
   "outputs": [
    {
     "output_type": "execute_result",
     "data": {
      "text/plain": [
       "['https://ngodarpan.gov.in/index.php/home/sectorwise_ngo/33591/2/1?per_page=100',\n",
       " 'https://ngodarpan.gov.in/index.php/home/sectorwise_ngo/35232/12/1?per_page=100',\n",
       " 'https://ngodarpan.gov.in/index.php/home/sectorwise_ngo/46896/1/1?per_page=100',\n",
       " 'https://ngodarpan.gov.in/index.php/home/sectorwise_ngo/51970/3/1?per_page=100',\n",
       " 'https://ngodarpan.gov.in/index.php/home/sectorwise_ngo/1622/44/1?per_page=100',\n",
       " 'https://ngodarpan.gov.in/index.php/home/sectorwise_ngo/17361/4/1?per_page=100',\n",
       " 'https://ngodarpan.gov.in/index.php/home/sectorwise_ngo/71291/5/1?per_page=100',\n",
       " 'https://ngodarpan.gov.in/index.php/home/sectorwise_ngo/27190/6/1?per_page=100',\n",
       " 'https://ngodarpan.gov.in/index.php/home/sectorwise_ngo/31169/8/1?per_page=100',\n",
       " 'https://ngodarpan.gov.in/index.php/home/sectorwise_ngo/29293/9/1?per_page=100',\n",
       " 'https://ngodarpan.gov.in/index.php/home/sectorwise_ngo/25343/7/1?per_page=100',\n",
       " 'https://ngodarpan.gov.in/index.php/home/sectorwise_ngo/38398/10/1?per_page=100',\n",
       " 'https://ngodarpan.gov.in/index.php/home/sectorwise_ngo/116178/11/1?per_page=100',\n",
       " 'https://ngodarpan.gov.in/index.php/home/sectorwise_ngo/51869/13/1?per_page=100',\n",
       " 'https://ngodarpan.gov.in/index.php/home/sectorwise_ngo/28726/14/1?per_page=100',\n",
       " 'https://ngodarpan.gov.in/index.php/home/sectorwise_ngo/76951/15/1?per_page=100',\n",
       " 'https://ngodarpan.gov.in/index.php/home/sectorwise_ngo/30103/16/1?per_page=100',\n",
       " 'https://ngodarpan.gov.in/index.php/home/sectorwise_ngo/15559/17/1?per_page=100',\n",
       " 'https://ngodarpan.gov.in/index.php/home/sectorwise_ngo/35552/18/1?per_page=100',\n",
       " 'https://ngodarpan.gov.in/index.php/home/sectorwise_ngo/28185/19/1?per_page=100',\n",
       " 'https://ngodarpan.gov.in/index.php/home/sectorwise_ngo/27826/22/1?per_page=100',\n",
       " 'https://ngodarpan.gov.in/index.php/home/sectorwise_ngo/33196/20/1?per_page=100',\n",
       " 'https://ngodarpan.gov.in/index.php/home/sectorwise_ngo/13679/21/1?per_page=100',\n",
       " 'https://ngodarpan.gov.in/index.php/home/sectorwise_ngo/22161/23/1?per_page=100',\n",
       " 'https://ngodarpan.gov.in/index.php/home/sectorwise_ngo/22201/25/1?per_page=100',\n",
       " 'https://ngodarpan.gov.in/index.php/home/sectorwise_ngo/23412/24/1?per_page=100',\n",
       " 'https://ngodarpan.gov.in/index.php/home/sectorwise_ngo/15421/26/1?per_page=100',\n",
       " 'https://ngodarpan.gov.in/index.php/home/sectorwise_ngo/23460/27/1?per_page=100',\n",
       " 'https://ngodarpan.gov.in/index.php/home/sectorwise_ngo/20189/28/1?per_page=100',\n",
       " 'https://ngodarpan.gov.in/index.php/home/sectorwise_ngo/7479/29/1?per_page=100',\n",
       " 'https://ngodarpan.gov.in/index.php/home/sectorwise_ngo/16159/30/1?per_page=100',\n",
       " 'https://ngodarpan.gov.in/index.php/home/sectorwise_ngo/47744/31/1?per_page=100',\n",
       " 'https://ngodarpan.gov.in/index.php/home/sectorwise_ngo/11681/33/1?per_page=100',\n",
       " 'https://ngodarpan.gov.in/index.php/home/sectorwise_ngo/26320/43/1?per_page=100',\n",
       " 'https://ngodarpan.gov.in/index.php/home/sectorwise_ngo/20628/32/1?per_page=100',\n",
       " 'https://ngodarpan.gov.in/index.php/home/sectorwise_ngo/27264/34/1?per_page=100',\n",
       " 'https://ngodarpan.gov.in/index.php/home/sectorwise_ngo/21973/36/1?per_page=100',\n",
       " 'https://ngodarpan.gov.in/index.php/home/sectorwise_ngo/13523/35/1?per_page=100',\n",
       " 'https://ngodarpan.gov.in/index.php/home/sectorwise_ngo/24460/37/1?per_page=100',\n",
       " 'https://ngodarpan.gov.in/index.php/home/sectorwise_ngo/48962/38/1?per_page=100',\n",
       " 'https://ngodarpan.gov.in/index.php/home/sectorwise_ngo/21589/39/1?per_page=100',\n",
       " 'https://ngodarpan.gov.in/index.php/home/sectorwise_ngo/66878/40/1?per_page=100',\n",
       " 'https://ngodarpan.gov.in/index.php/home/sectorwise_ngo/34894/41/1?per_page=100',\n",
       " 'https://ngodarpan.gov.in/index.php/home/sectorwise_ngo/34923/42/1?per_page=100']"
      ]
     },
     "metadata": {},
     "execution_count": 8
    }
   ],
   "metadata": {}
  },
  {
   "cell_type": "markdown",
   "source": [
    "# 4/5/2024"
   ],
   "metadata": {}
  },
  {
   "cell_type": "markdown",
   "source": [
    "Constantly ran into errors here so changed functions a bit\n",
    "> for example: list_buttonlast = driver.find_elements_by_partial_link_text('Last') ---> list_buttonlast = driver.find_elements(By.PARTIAL_LINK_TEXT, 'Last')\n",
    "\n",
    "<br/>\n",
    "\n",
    "will change all similar structure like this\n"
   ],
   "metadata": {}
  },
  {
   "cell_type": "code",
   "execution_count": 9,
   "source": [
    "get_num_of_pages_for_sector(sector_num = 0,driver = driver)"
   ],
   "outputs": [
    {
     "output_type": "execute_result",
     "data": {
      "text/plain": [
       "336"
      ]
     },
     "metadata": {},
     "execution_count": 9
    }
   ],
   "metadata": {
    "scrolled": true
   }
  },
  {
   "cell_type": "markdown",
   "source": [],
   "metadata": {}
  },
  {
   "cell_type": "code",
   "execution_count": 1,
   "source": [
    "# Changing base_url to sectorwise\n",
    "base_url = 'https://ngodarpan.gov.in/index.php/home/sectorwise'"
   ],
   "outputs": [],
   "metadata": {}
  },
  {
   "cell_type": "code",
   "execution_count": 12,
   "source": [
    "# Starting from the beginnning\n",
    "\n",
    "options = Options()\n",
    "options.headless = True # True hides the navigating of the browser by the scraper, False shows you the tab/window opening and stuff getting clicked\n",
    "driver = webdriver.Chrome(options=options)"
   ],
   "outputs": [],
   "metadata": {}
  },
  {
   "cell_type": "code",
   "execution_count": 5,
   "source": [
    "# Running an initial test with numbers\n",
    "scrape_list_singleplage(0,0,driver)"
   ],
   "outputs": [
    {
     "output_type": "error",
     "ename": "NameError",
     "evalue": "name 'sector_urls' is not defined",
     "traceback": [
      "\u001b[0;31m---------------------------------------------------------------------------\u001b[0m",
      "\u001b[0;31mNameError\u001b[0m                                 Traceback (most recent call last)",
      "Cell \u001b[0;32mIn[5], line 2\u001b[0m\n\u001b[1;32m      1\u001b[0m \u001b[38;5;66;03m# Running an initial test with numbers\u001b[39;00m\n\u001b[0;32m----> 2\u001b[0m \u001b[43mscrape_list_singleplage\u001b[49m\u001b[43m(\u001b[49m\u001b[38;5;241;43m0\u001b[39;49m\u001b[43m,\u001b[49m\u001b[38;5;241;43m0\u001b[39;49m\u001b[43m,\u001b[49m\u001b[43mdriver\u001b[49m\u001b[43m)\u001b[49m\n",
      "File \u001b[0;32m<string>:200\u001b[0m, in \u001b[0;36mscrape_list_singleplage\u001b[0;34m(sector_num, page_num, driver)\u001b[0m\n",
      "\u001b[0;31mNameError\u001b[0m: name 'sector_urls' is not defined"
     ]
    }
   ],
   "metadata": {}
  },
  {
   "cell_type": "code",
   "execution_count": 10,
   "source": [
    "# numberings start at 0, not 1.\n",
    "scrape_a_single_page(0, 0)"
   ],
   "outputs": [
    {
     "output_type": "stream",
     "name": "stdout",
     "text": [
      "scraping NGO number 1\n"
     ]
    },
    {
     "output_type": "error",
     "ename": "KeyboardInterrupt",
     "evalue": "",
     "traceback": [
      "\u001b[0;31m---------------------------------------------------------------------------\u001b[0m",
      "\u001b[0;31mKeyboardInterrupt\u001b[0m                         Traceback (most recent call last)",
      "Cell \u001b[0;32mIn[10], line 2\u001b[0m\n\u001b[1;32m      1\u001b[0m \u001b[38;5;66;03m# numberings start at 0, not 1.\u001b[39;00m\n\u001b[0;32m----> 2\u001b[0m \u001b[43mscrape_a_single_page\u001b[49m\u001b[43m(\u001b[49m\u001b[38;5;241;43m0\u001b[39;49m\u001b[43m,\u001b[49m\u001b[43m \u001b[49m\u001b[38;5;241;43m0\u001b[39;49m\u001b[43m)\u001b[49m\n",
      "File \u001b[0;32m<string>:165\u001b[0m, in \u001b[0;36mscrape_a_single_page\u001b[0;34m(sector_num, page_num)\u001b[0m\n",
      "\u001b[0;31mKeyboardInterrupt\u001b[0m: "
     ]
    }
   ],
   "metadata": {}
  },
  {
   "cell_type": "code",
   "execution_count": null,
   "source": [
    "\n",
    "max_workers_num = 30\n",
    "sector_num = 9\n",
    "\n",
    "scrape_multiple_wrapper = lambda i: scrape_multiple_pages(sector_num, i, i)\n",
    "\n",
    "with concurrent.futures.ThreadPoolExecutor(max_workers=max_workers_num) as executor:\n",
    "    results = executor.map(, range(106,107))\n"
   ],
   "outputs": [],
   "metadata": {}
  },
  {
   "cell_type": "code",
   "execution_count": 13,
   "source": [
    "# Testing front page scrape function\n",
    "\n",
    "scrape_a_sector(0)"
   ],
   "outputs": [
    {
     "output_type": "error",
     "ename": "TypeError",
     "evalue": "get_num_of_pages_for_sector() missing 1 required positional argument: 'driver'",
     "traceback": [
      "\u001b[0;31m---------------------------------------------------------------------------\u001b[0m",
      "\u001b[0;31mTypeError\u001b[0m                                 Traceback (most recent call last)",
      "Cell \u001b[0;32mIn[13], line 3\u001b[0m\n\u001b[1;32m      1\u001b[0m \u001b[38;5;66;03m# Testing front page scrape function\u001b[39;00m\n\u001b[0;32m----> 3\u001b[0m \u001b[43mscrape_a_sector\u001b[49m\u001b[43m(\u001b[49m\u001b[38;5;241;43m0\u001b[39;49m\u001b[43m)\u001b[49m\n",
      "File \u001b[0;32m<string>:174\u001b[0m, in \u001b[0;36mscrape_a_sector\u001b[0;34m(sector_num)\u001b[0m\n",
      "\u001b[0;31mTypeError\u001b[0m: get_num_of_pages_for_sector() missing 1 required positional argument: 'driver'"
     ]
    }
   ],
   "metadata": {}
  }
 ],
 "metadata": {
  "kernelspec": {
   "name": "python3",
   "display_name": "Python 3.11.1 64-bit"
  },
  "language_info": {
   "codemirror_mode": {
    "name": "ipython",
    "version": 3
   },
   "file_extension": ".py",
   "mimetype": "text/x-python",
   "name": "python",
   "nbconvert_exporter": "python",
   "pygments_lexer": "ipython3",
   "version": "3.11.1"
  },
  "toc": {
   "base_numbering": 1,
   "nav_menu": {},
   "number_sections": false,
   "sideBar": true,
   "skip_h1_title": false,
   "title_cell": "Table of Contents",
   "title_sidebar": "Contents",
   "toc_cell": false,
   "toc_position": {},
   "toc_section_display": true,
   "toc_window_display": false
  },
  "varInspector": {
   "cols": {
    "lenName": 16,
    "lenType": 16,
    "lenVar": 40
   },
   "kernels_config": {
    "python": {
     "delete_cmd_postfix": "",
     "delete_cmd_prefix": "del ",
     "library": "var_list.py",
     "varRefreshCmd": "print(var_dic_list())"
    },
    "r": {
     "delete_cmd_postfix": ") ",
     "delete_cmd_prefix": "rm(",
     "library": "var_list.r",
     "varRefreshCmd": "cat(var_dic_list()) "
    }
   },
   "types_to_exclude": [
    "module",
    "function",
    "builtin_function_or_method",
    "instance",
    "_Feature"
   ],
   "window_display": false
  },
  "interpreter": {
   "hash": "aee8b7b246df8f9039afb4144a1f6fd8d2ca17a180786b69acc140d282b71a49"
  }
 },
 "nbformat": 4,
 "nbformat_minor": 5
}