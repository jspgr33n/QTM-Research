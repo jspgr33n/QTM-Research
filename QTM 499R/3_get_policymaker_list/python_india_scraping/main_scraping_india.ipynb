{
 "cells": [
  {
   "cell_type": "markdown",
   "source": [
    "# Prototype NGO Scraping: Scraping Information for Multiple NGOs\n",
    "\n",
    "\n",
    "## The objective of this notebook is to play around with the NGO website scraping <br>\n",
    "## to in order to find a good way to scrape the list of NGO's. "
   ],
   "metadata": {}
  },
  {
   "cell_type": "markdown",
   "source": [
    "# I. SETUP WORKING ENVIRONMENT"
   ],
   "metadata": {}
  },
  {
   "cell_type": "markdown",
   "source": [
    "## Import packages"
   ],
   "metadata": {}
  },
  {
   "cell_type": "code",
   "execution_count": 36,
   "source": [
    "# Import custom scripts\n",
    "exec(open(\"./scripts/scraping_fns.py\").read())\n",
    "\n",
    "# This command executes the python scripts\n",
    "exec(open(\"./scripts/import_packages.py\").read())"
   ],
   "outputs": [],
   "metadata": {}
  },
  {
   "cell_type": "markdown",
   "source": [
    "## Configure storage\n",
    "\n",
    "- CHANGE CODE TO BE IN TERMS OF RELATIVE LOCATION"
   ],
   "metadata": {}
  },
  {
   "cell_type": "code",
   "execution_count": 22,
   "source": [
    "root_directory = \"D:/GitHub/expert-forecasting/\"\n",
    "store_directory = root_directory + \"raw_data/3_get_policymaker_list/ngo_india_scraping/\"\n",
    "\n",
    "print(root_directory)\n",
    "print(store_directory)"
   ],
   "outputs": [
    {
     "output_type": "stream",
     "name": "stdout",
     "text": [
      "D:/GitHub/expert-forecasting/\n",
      "D:/GitHub/expert-forecasting/raw_data/3_get_policymaker_list/ngo_india_scraping/\n"
     ]
    }
   ],
   "metadata": {}
  },
  {
   "cell_type": "markdown",
   "source": [
    "## Configure driver"
   ],
   "metadata": {}
  },
  {
   "cell_type": "code",
   "execution_count": 23,
   "source": [
    "# specifying the url to be scraped\n",
    "\n",
    "# base_url = 'https://ngodarpan.gov.in/index.php/home/sectorwise'\n",
    "base_url = 'https://ngodarpan.gov.in/index.php/home/statewise'\n",
    "\n",
    "# setting up selenium to use chrome as the browser\n",
    "option = Options()\n",
    "option.headless = True # True hides the navigating of the browser by the scraper, False shows you the tab/window opening and stuff getting clicked\n",
    "driver = webdriver.Chrome(options=option)"
   ],
   "outputs": [],
   "metadata": {}
  },
  {
   "cell_type": "markdown",
   "source": [
    "# II. TEST FUNCTIONS"
   ],
   "metadata": {}
  },
  {
   "cell_type": "code",
   "execution_count": 24,
   "source": [
    "print(f\"Obtaining URLs\")\n",
    "sector_urls = get_sector_urls(base_url)\n",
    "#total_pages_list = [get_num_of_pages_for_sector(sector_num) for sector_num in range(0,len(sector_urls))]\n",
    "drivers_dict={}"
   ],
   "outputs": [
    {
     "output_type": "stream",
     "name": "stdout",
     "text": [
      "Obtaining URLs\n"
     ]
    }
   ],
   "metadata": {}
  },
  {
   "cell_type": "markdown",
   "source": [
    "# 4/5/2024"
   ],
   "metadata": {}
  },
  {
   "cell_type": "markdown",
   "source": [
    "Constantly ran into errors here so changed functions a bit\n",
    "> for example: list_buttonlast = driver.find_elements_by_partial_link_text('Last') ---> list_buttonlast = driver.find_elements(By.PARTIAL_LINK_TEXT, 'Last')\n",
    "\n",
    "<br/>\n",
    "\n",
    "will change all similar structure like this\n"
   ],
   "metadata": {}
  },
  {
   "cell_type": "code",
   "execution_count": 25,
   "source": [
    "get_num_of_pages_for_sector(sector_num = 2,driver = driver)\n"
   ],
   "outputs": [
    {
     "output_type": "execute_result",
     "data": {
      "text/plain": [
       "6"
      ]
     },
     "metadata": {},
     "execution_count": 25
    }
   ],
   "metadata": {
    "scrolled": true
   }
  },
  {
   "cell_type": "markdown",
   "source": [],
   "metadata": {}
  },
  {
   "cell_type": "code",
   "execution_count": 26,
   "source": [
    "# Changing base_url to sectorwise\n",
    "base_url = 'https://ngodarpan.gov.in/index.php/home/sectorwise'"
   ],
   "outputs": [],
   "metadata": {}
  },
  {
   "cell_type": "code",
   "execution_count": 35,
   "source": [
    "# Starting from the beginnning\n",
    "\n",
    "options = Options()\n",
    "options.headless = True # True hides the navigating of the browser by the scraper, False shows you the tab/window opening and stuff getting clicked\n",
    "driver = webdriver.Chrome(options=options)"
   ],
   "outputs": [],
   "metadata": {}
  },
  {
   "cell_type": "code",
   "execution_count": 28,
   "source": [
    "# Running an initial test with numbers\n",
    "scrape_list_singleplage(1,1,driver)"
   ],
   "outputs": [
    {
     "output_type": "execute_result",
     "data": {
      "text/html": [
       "<div>\n",
       "<style scoped>\n",
       "    .dataframe tbody tr th:only-of-type {\n",
       "        vertical-align: middle;\n",
       "    }\n",
       "\n",
       "    .dataframe tbody tr th {\n",
       "        vertical-align: top;\n",
       "    }\n",
       "\n",
       "    .dataframe thead th {\n",
       "        text-align: right;\n",
       "    }\n",
       "</style>\n",
       "<table border=\"1\" class=\"dataframe\">\n",
       "  <thead>\n",
       "    <tr style=\"text-align: right;\">\n",
       "      <th></th>\n",
       "      <th>sector_num</th>\n",
       "      <th>page_num</th>\n",
       "      <th>index_in_page</th>\n",
       "      <th>ngo_name</th>\n",
       "      <th>ngo_hyperlink</th>\n",
       "      <th>ngo_registration</th>\n",
       "      <th>ngo_address</th>\n",
       "      <th>ngo_sectors</th>\n",
       "    </tr>\n",
       "  </thead>\n",
       "  <tbody>\n",
       "    <tr>\n",
       "      <th>0</th>\n",
       "      <td>1</td>\n",
       "      <td>1</td>\n",
       "      <td>0</td>\n",
       "      <td>(ANKITA) Association for Needy and Kindle the ...</td>\n",
       "      <td>&lt;a href=\"javascript:void(0)\" onclick=\"show_ng...</td>\n",
       "      <td>16/1994, Machilipatnam (ANDHRA PRADESH)</td>\n",
       "      <td>Flat no-101, Plot nos-919, 921, Sri Saidatta R...</td>\n",
       "      <td>Rural Development &amp;amp; Poverty Alleviation,Ag...</td>\n",
       "    </tr>\n",
       "    <tr>\n",
       "      <th>1</th>\n",
       "      <td>1</td>\n",
       "      <td>1</td>\n",
       "      <td>1</td>\n",
       "      <td>22ND BATCH OF JNVP</td>\n",
       "      <td>&lt;a href=\"javascript:void(0)\" onclick=\"show_ng...</td>\n",
       "      <td>5/2019, TADEPALLIGUDEM (ANDHRA PRADESH)</td>\n",
       "      <td>4-431, RAMANNAGUDEM ROAD, PEDATADEPALLI, TADEP...</td>\n",
       "      <td>Data Not Found</td>\n",
       "    </tr>\n",
       "    <tr>\n",
       "      <th>2</th>\n",
       "      <td>1</td>\n",
       "      <td>1</td>\n",
       "      <td>2</td>\n",
       "      <td>24 SPOKES ORGANISATION</td>\n",
       "      <td>&lt;a href=\"javascript:void(0)\" onclick=\"show_ng...</td>\n",
       "      <td>35 of 2020, Narasaraopet (ANDHRA PRADESH)</td>\n",
       "      <td>3-11-1\\nYallamanda,Narasaraopet,\\nPalnadu,\\nAn...</td>\n",
       "      <td>Agriculture,Art &amp;amp; Culture,Children,Dalit U...</td>\n",
       "    </tr>\n",
       "    <tr>\n",
       "      <th>3</th>\n",
       "      <td>1</td>\n",
       "      <td>1</td>\n",
       "      <td>3</td>\n",
       "      <td>3F SWABHIMAAN FOUNDATION</td>\n",
       "      <td>&lt;a href=\"javascript:void(0)\" onclick=\"show_ng...</td>\n",
       "      <td>38/2015, Racherla (ANDHRA PRADESH)</td>\n",
       "      <td>3F Swabhimaan Foundation\\nRacherla Village\\nPe...</td>\n",
       "      <td>Children,Aged/Elderly,Vocational Training</td>\n",
       "    </tr>\n",
       "    <tr>\n",
       "      <th>4</th>\n",
       "      <td>1</td>\n",
       "      <td>1</td>\n",
       "      <td>4</td>\n",
       "      <td>3T FOUNDATION</td>\n",
       "      <td>&lt;a href=\"javascript:void(0)\" onclick=\"show_ng...</td>\n",
       "      <td>BK4/5/2022, RAJANAGARAM (ANDHRA PRADESH)</td>\n",
       "      <td>111-3-181 RAMALAYAM STREET NARENDRAPURAM RAJAN...</td>\n",
       "      <td>Children,Education &amp;amp; Literacy,Women's Deve...</td>\n",
       "    </tr>\n",
       "    <tr>\n",
       "      <th>...</th>\n",
       "      <td>...</td>\n",
       "      <td>...</td>\n",
       "      <td>...</td>\n",
       "      <td>...</td>\n",
       "      <td>...</td>\n",
       "      <td>...</td>\n",
       "      <td>...</td>\n",
       "      <td>...</td>\n",
       "    </tr>\n",
       "    <tr>\n",
       "      <th>95</th>\n",
       "      <td>1</td>\n",
       "      <td>1</td>\n",
       "      <td>95</td>\n",
       "      <td>ACCESS</td>\n",
       "      <td>&lt;a href=\"javascript:void(0)\" onclick=\"show_ng...</td>\n",
       "      <td>578 of 2008, Srikakulam (ANDHRA PRADESH)</td>\n",
       "      <td>Access (NGO)\\nD.NO. 2-21, Near Bridge,\\nBikkav...</td>\n",
       "      <td>Agriculture,Children,Drinking Water,Education ...</td>\n",
       "    </tr>\n",
       "    <tr>\n",
       "      <th>96</th>\n",
       "      <td>1</td>\n",
       "      <td>1</td>\n",
       "      <td>96</td>\n",
       "      <td>ACCION FOR ENVIRONMENT EDUCATION</td>\n",
       "      <td>&lt;a href=\"javascript:void(0)\" onclick=\"show_ng...</td>\n",
       "      <td>56 OF 2015, Anantapur (ANDHRA PRADESH)</td>\n",
       "      <td>ATMAKUR (V)(M)</td>\n",
       "      <td>Agriculture,Animal Husbandry, Dairying  &amp;amp; ...</td>\n",
       "    </tr>\n",
       "    <tr>\n",
       "      <th>97</th>\n",
       "      <td>1</td>\n",
       "      <td>1</td>\n",
       "      <td>97</td>\n",
       "      <td>Accion Fraterna Trust</td>\n",
       "      <td>&lt;a href=\"javascript:void(0)\" onclick=\"show_ng...</td>\n",
       "      <td>93/82, ANANTAPUR (ANDHRA PRADESH)</td>\n",
       "      <td>Accion Fraterna Trust\\n28493E1, Bangalore High...</td>\n",
       "      <td>Agriculture,Environment &amp;amp; Forests,Vocation...</td>\n",
       "    </tr>\n",
       "    <tr>\n",
       "      <th>98</th>\n",
       "      <td>1</td>\n",
       "      <td>1</td>\n",
       "      <td>98</td>\n",
       "      <td>Accurate Development for Allivated Masses Society</td>\n",
       "      <td>&lt;a href=\"javascript:void(0)\" onclick=\"show_ng...</td>\n",
       "      <td>742/1995, Chirala (ANDHRA PRADESH)</td>\n",
       "      <td>D.NO: 6-141, SAVARAPALEM\\nEPURUPALEM VILLAGE\\n...</td>\n",
       "      <td>Animal Husbandry, Dairying  &amp;amp;  Fisheries,A...</td>\n",
       "    </tr>\n",
       "    <tr>\n",
       "      <th>99</th>\n",
       "      <td>1</td>\n",
       "      <td>1</td>\n",
       "      <td>99</td>\n",
       "      <td>ACHALLA CHARITABLE TRUST</td>\n",
       "      <td>&lt;a href=\"javascript:void(0)\" onclick=\"show_ng...</td>\n",
       "      <td>77/2022, NARASIMHA NAGAR (ANDHRA PRADESH)</td>\n",
       "      <td>45-57-2/1/9 FLAT NO F-1, FIRST FLOOR, ANUSHA R...</td>\n",
       "      <td>Data Not Found</td>\n",
       "    </tr>\n",
       "  </tbody>\n",
       "</table>\n",
       "<p>100 rows × 8 columns</p>\n",
       "</div>"
      ],
      "text/plain": [
       "    sector_num  page_num  index_in_page  \\\n",
       "0            1         1              0   \n",
       "1            1         1              1   \n",
       "2            1         1              2   \n",
       "3            1         1              3   \n",
       "4            1         1              4   \n",
       "..         ...       ...            ...   \n",
       "95           1         1             95   \n",
       "96           1         1             96   \n",
       "97           1         1             97   \n",
       "98           1         1             98   \n",
       "99           1         1             99   \n",
       "\n",
       "                                             ngo_name  \\\n",
       "0   (ANKITA) Association for Needy and Kindle the ...   \n",
       "1                                  22ND BATCH OF JNVP   \n",
       "2                              24 SPOKES ORGANISATION   \n",
       "3                            3F SWABHIMAAN FOUNDATION   \n",
       "4                                       3T FOUNDATION   \n",
       "..                                                ...   \n",
       "95                                             ACCESS   \n",
       "96                   ACCION FOR ENVIRONMENT EDUCATION   \n",
       "97                              Accion Fraterna Trust   \n",
       "98  Accurate Development for Allivated Masses Society   \n",
       "99                           ACHALLA CHARITABLE TRUST   \n",
       "\n",
       "                                        ngo_hyperlink  \\\n",
       "0    <a href=\"javascript:void(0)\" onclick=\"show_ng...   \n",
       "1    <a href=\"javascript:void(0)\" onclick=\"show_ng...   \n",
       "2    <a href=\"javascript:void(0)\" onclick=\"show_ng...   \n",
       "3    <a href=\"javascript:void(0)\" onclick=\"show_ng...   \n",
       "4    <a href=\"javascript:void(0)\" onclick=\"show_ng...   \n",
       "..                                                ...   \n",
       "95   <a href=\"javascript:void(0)\" onclick=\"show_ng...   \n",
       "96   <a href=\"javascript:void(0)\" onclick=\"show_ng...   \n",
       "97   <a href=\"javascript:void(0)\" onclick=\"show_ng...   \n",
       "98   <a href=\"javascript:void(0)\" onclick=\"show_ng...   \n",
       "99   <a href=\"javascript:void(0)\" onclick=\"show_ng...   \n",
       "\n",
       "                             ngo_registration  \\\n",
       "0     16/1994, Machilipatnam (ANDHRA PRADESH)   \n",
       "1     5/2019, TADEPALLIGUDEM (ANDHRA PRADESH)   \n",
       "2   35 of 2020, Narasaraopet (ANDHRA PRADESH)   \n",
       "3          38/2015, Racherla (ANDHRA PRADESH)   \n",
       "4    BK4/5/2022, RAJANAGARAM (ANDHRA PRADESH)   \n",
       "..                                        ...   \n",
       "95   578 of 2008, Srikakulam (ANDHRA PRADESH)   \n",
       "96     56 OF 2015, Anantapur (ANDHRA PRADESH)   \n",
       "97          93/82, ANANTAPUR (ANDHRA PRADESH)   \n",
       "98         742/1995, Chirala (ANDHRA PRADESH)   \n",
       "99  77/2022, NARASIMHA NAGAR (ANDHRA PRADESH)   \n",
       "\n",
       "                                          ngo_address  \\\n",
       "0   Flat no-101, Plot nos-919, 921, Sri Saidatta R...   \n",
       "1   4-431, RAMANNAGUDEM ROAD, PEDATADEPALLI, TADEP...   \n",
       "2   3-11-1\\nYallamanda,Narasaraopet,\\nPalnadu,\\nAn...   \n",
       "3   3F Swabhimaan Foundation\\nRacherla Village\\nPe...   \n",
       "4   111-3-181 RAMALAYAM STREET NARENDRAPURAM RAJAN...   \n",
       "..                                                ...   \n",
       "95  Access (NGO)\\nD.NO. 2-21, Near Bridge,\\nBikkav...   \n",
       "96                                     ATMAKUR (V)(M)   \n",
       "97  Accion Fraterna Trust\\n28493E1, Bangalore High...   \n",
       "98  D.NO: 6-141, SAVARAPALEM\\nEPURUPALEM VILLAGE\\n...   \n",
       "99  45-57-2/1/9 FLAT NO F-1, FIRST FLOOR, ANUSHA R...   \n",
       "\n",
       "                                          ngo_sectors  \n",
       "0   Rural Development &amp; Poverty Alleviation,Ag...  \n",
       "1                                      Data Not Found  \n",
       "2   Agriculture,Art &amp; Culture,Children,Dalit U...  \n",
       "3           Children,Aged/Elderly,Vocational Training  \n",
       "4   Children,Education &amp; Literacy,Women's Deve...  \n",
       "..                                                ...  \n",
       "95  Agriculture,Children,Drinking Water,Education ...  \n",
       "96  Agriculture,Animal Husbandry, Dairying  &amp; ...  \n",
       "97  Agriculture,Environment &amp; Forests,Vocation...  \n",
       "98  Animal Husbandry, Dairying  &amp;  Fisheries,A...  \n",
       "99                                     Data Not Found  \n",
       "\n",
       "[100 rows x 8 columns]"
      ]
     },
     "metadata": {},
     "execution_count": 28
    }
   ],
   "metadata": {}
  },
  {
   "cell_type": "code",
   "execution_count": 37,
   "source": [
    "scrape_a_single_page(1, 1)"
   ],
   "outputs": [
    {
     "output_type": "error",
     "ename": "AttributeError",
     "evalue": "'WebDriver' object has no attribute 'find_elements_by_xpath'",
     "traceback": [
      "\u001b[0;31m---------------------------------------------------------------------------\u001b[0m",
      "\u001b[0;31mAttributeError\u001b[0m                            Traceback (most recent call last)",
      "Cell \u001b[0;32mIn[37], line 1\u001b[0m\n\u001b[0;32m----> 1\u001b[0m \u001b[43mscrape_a_single_page\u001b[49m\u001b[43m(\u001b[49m\u001b[38;5;241;43m1\u001b[39;49m\u001b[43m,\u001b[49m\u001b[43m \u001b[49m\u001b[38;5;241;43m1\u001b[39;49m\u001b[43m)\u001b[49m\n",
      "File \u001b[0;32m<string>:66\u001b[0m, in \u001b[0;36mscrape_a_single_page\u001b[0;34m(sector_num, page_num)\u001b[0m\n",
      "\u001b[0;31mAttributeError\u001b[0m: 'WebDriver' object has no attribute 'find_elements_by_xpath'"
     ]
    }
   ],
   "metadata": {}
  },
  {
   "cell_type": "code",
   "execution_count": null,
   "source": [
    "\n",
    "max_workers_num = 30\n",
    "sector_num = 9\n",
    "\n",
    "scrape_multiple_wrapper = lambda i: scrape_multiple_pages(sector_num, i, i)\n",
    "\n",
    "with concurrent.futures.ThreadPoolExecutor(max_workers=max_workers_num) as executor:\n",
    "    results = executor.map(, range(106,107))\n"
   ],
   "outputs": [],
   "metadata": {}
  }
 ],
 "metadata": {
  "kernelspec": {
   "name": "python3",
   "display_name": "Python 3.11.1 64-bit"
  },
  "language_info": {
   "codemirror_mode": {
    "name": "ipython",
    "version": 3
   },
   "file_extension": ".py",
   "mimetype": "text/x-python",
   "name": "python",
   "nbconvert_exporter": "python",
   "pygments_lexer": "ipython3",
   "version": "3.11.1"
  },
  "toc": {
   "base_numbering": 1,
   "nav_menu": {},
   "number_sections": false,
   "sideBar": true,
   "skip_h1_title": false,
   "title_cell": "Table of Contents",
   "title_sidebar": "Contents",
   "toc_cell": false,
   "toc_position": {},
   "toc_section_display": true,
   "toc_window_display": false
  },
  "varInspector": {
   "cols": {
    "lenName": 16,
    "lenType": 16,
    "lenVar": 40
   },
   "kernels_config": {
    "python": {
     "delete_cmd_postfix": "",
     "delete_cmd_prefix": "del ",
     "library": "var_list.py",
     "varRefreshCmd": "print(var_dic_list())"
    },
    "r": {
     "delete_cmd_postfix": ") ",
     "delete_cmd_prefix": "rm(",
     "library": "var_list.r",
     "varRefreshCmd": "cat(var_dic_list()) "
    }
   },
   "types_to_exclude": [
    "module",
    "function",
    "builtin_function_or_method",
    "instance",
    "_Feature"
   ],
   "window_display": false
  },
  "interpreter": {
   "hash": "aee8b7b246df8f9039afb4144a1f6fd8d2ca17a180786b69acc140d282b71a49"
  }
 },
 "nbformat": 4,
 "nbformat_minor": 5
}